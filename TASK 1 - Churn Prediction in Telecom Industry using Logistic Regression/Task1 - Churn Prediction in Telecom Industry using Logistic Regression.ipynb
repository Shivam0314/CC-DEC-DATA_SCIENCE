{
  "nbformat": 4,
  "nbformat_minor": 0,
  "metadata": {
    "colab": {
      "provenance": []
    },
    "kernelspec": {
      "name": "python3",
      "display_name": "Python 3"
    },
    "language_info": {
      "name": "python"
    }
  },
  "cells": [
    {
      "cell_type": "markdown",
      "source": [
        "# ***Churn Prediction in Telecom Industry using Logistic Regression***"
      ],
      "metadata": {
        "id": "40Hro5JKxRXQ"
      }
    },
    {
      "cell_type": "code",
      "execution_count": null,
      "metadata": {
        "id": "unuO-WO7xH27"
      },
      "outputs": [],
      "source": [
        "import numpy as np\n",
        "import pandas as pd\n",
        "import matplotlib.pyplot as plt\n",
        "import seaborn as sns\n",
        "import pickle"
      ]
    },
    {
      "cell_type": "code",
      "source": [
        "from sklearn.model_selection import train_test_split\n",
        "from sklearn import metrics\n",
        "from sklearn.preprocessing import StandardScaler\n",
        "from sklearn.model_selection import GridSearchCV\n",
        "from sklearn.decomposition import PCA\n",
        "from sklearn.decomposition import IncrementalPCA\n",
        "from sklearn.linear_model import LogisticRegression\n",
        "from sklearn.ensemble import RandomForestClassifier"
      ],
      "metadata": {
        "id": "v3yRiYFS2X8w"
      },
      "execution_count": null,
      "outputs": []
    },
    {
      "cell_type": "code",
      "source": [
        "#Loading the csv into Data Frame\n",
        "telecom_df = pd.read_csv(\"Telecom_churn_data.csv\" , encoding= 'unicode_escape')\n",
        "telecom_df.head()"
      ],
      "metadata": {
        "id": "5YrHbIgG2j1U"
      },
      "execution_count": null,
      "outputs": []
    },
    {
      "cell_type": "code",
      "source": [
        "telecom_df.info(verbose=1, null_counts=True, memory_usage=True)"
      ],
      "metadata": {
        "id": "8WUhO2Ik2_T9"
      },
      "execution_count": null,
      "outputs": []
    },
    {
      "cell_type": "code",
      "source": [
        "telecom_df.shape"
      ],
      "metadata": {
        "id": "7ASq_cS73Hi4",
        "colab": {
          "base_uri": "https://localhost:8080/"
        },
        "outputId": "0aadb6a2-0bed-4cb3-d64a-7aa7155ffbf6"
      },
      "execution_count": null,
      "outputs": [
        {
          "output_type": "execute_result",
          "data": {
            "text/plain": [
              "(99999, 226)"
            ]
          },
          "metadata": {},
          "execution_count": 226
        }
      ]
    },
    {
      "cell_type": "code",
      "source": [
        "# Handling Missing Values:\n",
        "init_rows, init_cols = telecom_df.shape\n",
        "print(\"Number of rows\", init_rows)\n",
        "print(\"Number of columns\", init_cols)"
      ],
      "metadata": {
        "id": "3ibEXCVW3TZP"
      },
      "execution_count": null,
      "outputs": []
    },
    {
      "cell_type": "code",
      "source": [
        "# Checking the percentage of missing values\n",
        "missing_percent = pd.DataFrame(round(100*(telecom_df.isnull().sum()/len(telecom_df.index)), 2), columns=['Percentage'])\n",
        "missing_percent.reset_index(inplace=True)\n",
        "missing_percent.rename(columns={'index':'features'}, inplace=True)\n"
      ],
      "metadata": {
        "id": "96yE-nmd3Zta"
      },
      "execution_count": null,
      "outputs": []
    },
    {
      "cell_type": "code",
      "source": [
        "print(\"missing percentage < 10% \", missing_percent[(missing_percent['Percentage'] > 0.00) & (missing_percent['Percentage'] < 10.00)].count())\n",
        "print(\"missing percentage 10-60% \", missing_percent[(missing_percent['Percentage'] >= 10.00) & (missing_percent['Percentage'] < 60.00)].count())\n",
        "print(\"missing percentage >= 60% \", missing_percent[(missing_percent['Percentage'] >= 60.00)].count())"
      ],
      "metadata": {
        "id": "AhWF_rjV3cgv"
      },
      "execution_count": null,
      "outputs": []
    },
    {
      "cell_type": "code",
      "source": [
        "# Considering attributes with more than 60% missing value\n",
        "missing_percent[(missing_percent['Percentage'] > 60.00)]"
      ],
      "metadata": {
        "id": "5u5NVqu33fY6"
      },
      "execution_count": null,
      "outputs": []
    },
    {
      "cell_type": "code",
      "source": [
        "# Here for each user when the date of last recharge data is blank, corresponding recharge data related attributes like count_rech_3g, \n",
        "# total_rech_data, arpu_2g, are also blank with same percentage of missing as month wise last recharge date column which implies that \n",
        "# user didn't make any data recharge for that month.\n",
        "# So we can replace above recharge data related attributes NAN values with 0 \n",
        "telecom_df.fb_user_8.value_counts()"
      ],
      "metadata": {
        "id": "GDx8eqJi3hv4"
      },
      "execution_count": null,
      "outputs": []
    },
    {
      "cell_type": "code",
      "source": [
        "no_data_rech_cols = list(missing_percent[(missing_percent['Percentage'] > 60.00)].features)\n",
        "no_data_rech_cols\n"
      ],
      "metadata": {
        "id": "Uvd2trDv3xFj"
      },
      "execution_count": null,
      "outputs": []
    },
    {
      "cell_type": "code",
      "source": [
        "# Replacing those missing values with 0 for above columns\n",
        "telecom_df[no_data_rech_cols] = telecom_df[no_data_rech_cols].fillna(value=0)"
      ],
      "metadata": {
        "id": "0jXymSn_35AZ"
      },
      "execution_count": null,
      "outputs": []
    },
    {
      "cell_type": "code",
      "source": [
        "# reinitializing missing_percent data frame with HVC_telecom\n",
        "# Checking the percentage of missing values\n",
        "missing_percent = pd.DataFrame(round(100*(telecom_df.isnull().sum()/len(telecom_df.index)), 2), columns=['Percentage'])\n",
        "missing_percent.reset_index(inplace=True)\n",
        "missing_percent.rename(columns={'index':'features'}, inplace=True)\n",
        "\n",
        "print(\"missing percentage > 60% \", missing_percent[(missing_percent['Percentage'] > 60.00)].count())"
      ],
      "metadata": {
        "id": "OgY_TuwT36pG"
      },
      "execution_count": null,
      "outputs": []
    },
    {
      "cell_type": "code",
      "source": [
        "# Considering attributes with less than 6% missing value\n",
        "missing_percent[(missing_percent['Percentage'] > 0.00) & (missing_percent['Percentage'] < 10.00)]\n"
      ],
      "metadata": {
        "id": "8WhuG74539O-"
      },
      "execution_count": null,
      "outputs": []
    },
    {
      "cell_type": "code",
      "source": [
        "# Validating data in loc_og_t2o_mou attribute\n",
        "telecom_df['loc_og_t2o_mou'].value_counts()"
      ],
      "metadata": {
        "id": "Cx4eJgdK4AYA"
      },
      "execution_count": null,
      "outputs": []
    },
    {
      "cell_type": "code",
      "source": [
        "# Validating data in std_og_t2o_mou attribute\n",
        "telecom_df['std_og_t2o_mou'].value_counts()"
      ],
      "metadata": {
        "id": "SHDNnFf54DXe"
      },
      "execution_count": null,
      "outputs": []
    },
    {
      "cell_type": "code",
      "source": [
        "# Validating data in loc_ic_t2o_mou attribute\n",
        "telecom_df['loc_ic_t2o_mou'].value_counts()\n",
        "\n",
        "# The above three columns `loc_ic_t2o_mou, loc_og_t2o_mou, std_og_t2o_mou` have most of values are zero and having 1 % missing values, \n",
        "# so we can drop these attributes\n"
      ],
      "metadata": {
        "id": "mULn54vP4IBE"
      },
      "execution_count": null,
      "outputs": []
    },
    {
      "cell_type": "code",
      "source": [
        "# Dropping above mentioned attributes\n",
        "telecom_df.drop(['std_og_t2o_mou', 'loc_og_t2o_mou', 'loc_ic_t2o_mou'], axis=1, inplace=True)\n",
        "telecom_df.head()"
      ],
      "metadata": {
        "id": "UstvJfMH4Ils"
      },
      "execution_count": null,
      "outputs": []
    },
    {
      "cell_type": "code",
      "source": [
        "# Filling last date of month columns with last date\n",
        "telecom_df['last_date_of_month_7'] = telecom_df['last_date_of_month_7'].fillna(value='7/31/2014')\n",
        "telecom_df['last_date_of_month_8'] = telecom_df['last_date_of_month_8'].fillna(value='8/31/2014')\n",
        "telecom_df['last_date_of_month_9'] = telecom_df['last_date_of_month_9'].fillna(value='9/30/2014')\n"
      ],
      "metadata": {
        "id": "i9lED6M44RE5"
      },
      "execution_count": null,
      "outputs": []
    },
    {
      "cell_type": "code",
      "source": [
        "# Verifying recharge date distribution in date_of_last_rech_6\n",
        "telecom_df['date_of_last_rech_6'].value_counts()"
      ],
      "metadata": {
        "id": "SnS2JsNW4Tof"
      },
      "execution_count": null,
      "outputs": []
    },
    {
      "cell_type": "code",
      "source": [
        "# Verifying recharge date distribution in date_of_last_rech_7\n",
        "telecom_df['date_of_last_rech_7'].value_counts()"
      ],
      "metadata": {
        "id": "cp54AZP44Vu-"
      },
      "execution_count": null,
      "outputs": []
    },
    {
      "cell_type": "code",
      "source": [
        "# Verifying recharge date distribution in date_of_last_rech_8\n",
        "telecom_df['date_of_last_rech_8'].value_counts()"
      ],
      "metadata": {
        "id": "Y7OXMnSx4ZSg"
      },
      "execution_count": null,
      "outputs": []
    },
    {
      "cell_type": "code",
      "source": [
        "# Verifying recharge date distribution in date_of_last_rech_9\n",
        "telecom_df['date_of_last_rech_9'].value_counts()"
      ],
      "metadata": {
        "id": "4fNHyhWX4b72"
      },
      "execution_count": null,
      "outputs": []
    },
    {
      "cell_type": "code",
      "source": [
        "# Missing data in last date of recharge columns filled up with mode of the same columns\n",
        "telecom_df['date_of_last_rech_6'] = telecom_df['date_of_last_rech_6'].fillna(\n",
        "    value=telecom_df['date_of_last_rech_6'].mode()[0])\n",
        "\n",
        "telecom_df['date_of_last_rech_7'] = telecom_df['date_of_last_rech_7'].fillna(\n",
        "    value=telecom_df['date_of_last_rech_7'].mode()[0])\n",
        "\n",
        "telecom_df['date_of_last_rech_8'] = telecom_df['date_of_last_rech_8'].fillna(\n",
        "    value=telecom_df['date_of_last_rech_8'].mode()[0])\n",
        "\n",
        "telecom_df['date_of_last_rech_9'] = telecom_df['date_of_last_rech_9'].fillna(\n",
        "    value=telecom_df['date_of_last_rech_9'].mode()[0])"
      ],
      "metadata": {
        "id": "wOZULEnO4d_2"
      },
      "execution_count": null,
      "outputs": []
    },
    {
      "cell_type": "code",
      "source": [
        "# Checking the percentage of missing values\n",
        "missing_percent = pd.DataFrame(round(100*(telecom_df.isnull().sum()/len(telecom_df.index)), 2), columns=['Percentage'])\n",
        "missing_percent.reset_index(inplace=True)\n",
        "missing_percent.rename(columns={'index':'features'}, inplace=True)\n",
        "\n",
        "print(\"missing percentage < 10% \", missing_percent[(missing_percent['Percentage'] > 0.00) & (missing_percent['Percentage'] < 10.00)].count())\n",
        "print(\"missing percentage 10-60% \", missing_percent[(missing_percent['Percentage'] >= 10.00) & (missing_percent['Percentage'] < 60.00)].count())\n",
        "print(\"missing percentage >= 60% \", missing_percent[(missing_percent['Percentage'] >= 60.00)].count())\n"
      ],
      "metadata": {
        "id": "xs41Cm1E4hBj"
      },
      "execution_count": null,
      "outputs": []
    },
    {
      "cell_type": "code",
      "source": [
        "missing_percent[(missing_percent['Percentage'] > 0.00) & (missing_percent['Percentage'] < 10.00)]\n",
        "\n",
        "\n",
        "# All month wise attributes missing percentage is similar like 3.94 % in month 6, 3.86 % in month 7 and 5.38 % in month 8 and 7.75 % in month 9 .\n",
        "\n",
        "# where Onnet and offnet minute of usages i.e. Call Usages are blank for months other call usage related attributes are also blank that implies \n",
        "# that the user didn't make any call.\n",
        "# - So we can replace attribute NAN values with 0 \n"
      ],
      "metadata": {
        "id": "3s3LnNr94jeW"
      },
      "execution_count": null,
      "outputs": []
    },
    {
      "cell_type": "code",
      "source": [
        "# Filling null columns with zero for month 6, 7, 8, 9\n",
        "missing_cols = missing_percent[(missing_percent['Percentage'] == 3.94) | (missing_percent['Percentage'] == 3.86) |\n",
        "                                (missing_percent['Percentage'] == 5.38) | (missing_percent['Percentage'] == 7.75)].features\n",
        "\n",
        "telecom_df[missing_cols] = telecom_df[missing_cols].fillna(value=0)"
      ],
      "metadata": {
        "id": "0IDnQrB14qXu"
      },
      "execution_count": null,
      "outputs": []
    },
    {
      "cell_type": "code",
      "source": [
        "# Checking the percentage of missing values\n",
        "missing_percent = pd.DataFrame(round(100*(telecom_df.isnull().sum()/len(telecom_df.index)), 2), columns=['Percentage'])\n",
        "missing_percent.reset_index(inplace=True)\n",
        "missing_percent.rename(columns={'index':'features'}, inplace=True)\n",
        "\n",
        "print(\"missing percentage < 10% \", missing_percent[(missing_percent['Percentage'] > 0.00) & (missing_percent['Percentage'] < 10.00)].count())\n",
        "print(\"missing percentage 10-60% \", missing_percent[(missing_percent['Percentage'] >= 10.00) & (missing_percent['Percentage'] < 60.00)].count())\n",
        "print(\"missing percentage >= 60% \", missing_percent[(missing_percent['Percentage'] >= 60.00)].count())"
      ],
      "metadata": {
        "id": "QUBzxGIE4snZ"
      },
      "execution_count": null,
      "outputs": []
    },
    {
      "cell_type": "code",
      "source": [
        "# Filtering high value customer data set from telecom data\n",
        "telecom_df['av_total_rech_goodPhase'] = (telecom_df['total_rech_amt_6'] + telecom_df['total_rech_amt_7'])/(\n",
        "    telecom_df['total_rech_num_6'] + telecom_df['total_rech_num_7'])\n",
        "\n",
        "var = round(telecom_df['av_total_rech_goodPhase'].quantile(0.7), 2)\n",
        "print(\"70% of average Recharge Amount of month 6 and 7\", var)\n",
        "\n",
        "\n",
        "HV_Cust_df = telecom_df[(telecom_df.av_total_rech_goodPhase >= var)]\n",
        "HV_Cust_df.info()"
      ],
      "metadata": {
        "id": "BwgZx3fJ4xOv"
      },
      "execution_count": null,
      "outputs": []
    },
    {
      "cell_type": "code",
      "source": [
        "HV_Cust_df.drop(['av_total_rech_goodPhase'], axis=1, inplace=True)"
      ],
      "metadata": {
        "id": "KloBFzj940o0"
      },
      "execution_count": null,
      "outputs": []
    },
    {
      "cell_type": "code",
      "source": [
        "var_list = ['total_ic_mou_9', 'total_og_mou_9', 'vol_2g_mb_9', 'vol_3g_mb_9']\n",
        "churn_info = HV_Cust_df[var_list]\n",
        "churn_info.head()"
      ],
      "metadata": {
        "id": "R0s86Mpt45pb"
      },
      "execution_count": null,
      "outputs": []
    },
    {
      "cell_type": "code",
      "source": [
        "churn_info.isnull().sum()"
      ],
      "metadata": {
        "id": "vqvfDmXe48hN"
      },
      "execution_count": null,
      "outputs": []
    },
    {
      "cell_type": "code",
      "source": [
        "def churn_detect(df):\n",
        "    if((df['total_ic_mou_9'] == 0.0) & (df['total_og_mou_9'] == 0.0)\n",
        "      & (df['vol_2g_mb_9'] == 0.0) & (df['vol_3g_mb_9'] == 0.0)):\n",
        "        return 1\n",
        "    else:\n",
        "        return 0\n",
        "\n",
        "# Applying User defined Churn detection function HV_Cust_df and creating new column Churn    \n",
        "HV_Cust_df['Churn'] = churn_info.apply(churn_detect, axis=1)"
      ],
      "metadata": {
        "id": "SjJuE2dW4-me"
      },
      "execution_count": null,
      "outputs": []
    },
    {
      "cell_type": "code",
      "source": [
        "# Verifying the Churn column with 9th month attributes\n",
        "churn_info['Churn'] = HV_Cust_df['Churn']\n",
        "churn_info.head(10)"
      ],
      "metadata": {
        "id": "7Q6-JL1-5B4w"
      },
      "execution_count": null,
      "outputs": []
    },
    {
      "cell_type": "code",
      "source": [
        "# Removing all attributes corresponding to Churn phase\n",
        "Nonchurn_phase_cols = [i  for i in HV_Cust_df.columns if \"_9\" not in i]\n",
        "len(Nonchurn_phase_cols)"
      ],
      "metadata": {
        "id": "DNa1Pjhg5JIr"
      },
      "execution_count": null,
      "outputs": []
    },
    {
      "cell_type": "code",
      "source": [
        "# Keeping the dataset with non-churn phase attributes only\n",
        "HVC_telecom = HV_Cust_df[Nonchurn_phase_cols]\n",
        "HVC_telecom.head()"
      ],
      "metadata": {
        "id": "CDr6fn-C5LRN"
      },
      "execution_count": null,
      "outputs": []
    },
    {
      "cell_type": "code",
      "source": [
        "HVC_telecom.shape"
      ],
      "metadata": {
        "id": "sLDLqGms5NKJ"
      },
      "execution_count": null,
      "outputs": []
    },
    {
      "cell_type": "code",
      "source": [
        "HVC_telecom.info(verbose=True, null_counts=True)\n"
      ],
      "metadata": {
        "id": "2YNpPHh75Qa8"
      },
      "execution_count": null,
      "outputs": []
    },
    {
      "cell_type": "code",
      "source": [
        "HVC_telecom['std_ic_t2o_mou_6'].value_counts()"
      ],
      "metadata": {
        "id": "YjZOp2cm5Uzm"
      },
      "execution_count": null,
      "outputs": []
    },
    {
      "cell_type": "code",
      "source": [
        "# Verifying recharge date distribution in std_ic_t2o_mou_7\n",
        "HVC_telecom['std_ic_t2o_mou_7'].value_counts()"
      ],
      "metadata": {
        "id": "JOuHkaGN5X6z"
      },
      "execution_count": null,
      "outputs": []
    },
    {
      "cell_type": "code",
      "source": [
        "# Verifying recharge date distribution in std_ic_t2o_mou_8\n",
        "HVC_telecom['std_ic_t2o_mou_8'].value_counts()"
      ],
      "metadata": {
        "id": "SyIM9SSK5aFH"
      },
      "execution_count": null,
      "outputs": []
    },
    {
      "cell_type": "code",
      "source": [
        "# Verifying recharge date distribution in std_og_t2c_mou_6\n",
        "HVC_telecom['std_og_t2c_mou_6'].value_counts()"
      ],
      "metadata": {
        "id": "-0wdLKfF5b3-"
      },
      "execution_count": null,
      "outputs": []
    },
    {
      "cell_type": "code",
      "source": [
        "# Verifying recharge date distribution in std_og_t2c_mou_7\n",
        "HVC_telecom['std_og_t2c_mou_7'].value_counts()"
      ],
      "metadata": {
        "id": "EAwq_1cr5dzW"
      },
      "execution_count": null,
      "outputs": []
    },
    {
      "cell_type": "code",
      "source": [
        "# Verifying recharge date distribution in std_og_t2c_mou_8\n",
        "HVC_telecom['std_og_t2c_mou_8'].value_counts()"
      ],
      "metadata": {
        "id": "QE74m7Ac5fur"
      },
      "execution_count": null,
      "outputs": []
    },
    {
      "cell_type": "code",
      "source": [
        "drop_cols = ['std_ic_t2o_mou_6', 'std_ic_t2o_mou_7', 'std_ic_t2o_mou_8', 'std_og_t2c_mou_6', 'std_og_t2c_mou_7', 'std_og_t2c_mou_8']\n",
        "HVC_telecom.drop(columns=drop_cols, axis=1, inplace=True)"
      ],
      "metadata": {
        "id": "tWrFWMEB5hpI"
      },
      "execution_count": null,
      "outputs": []
    },
    {
      "cell_type": "code",
      "source": [
        "# Dropping the phone number attribute as its no use in model\n",
        "HVC_telecom.drop(['mobile_number'], axis=1, inplace=True)"
      ],
      "metadata": {
        "id": "H_LPKu3d5kQK"
      },
      "execution_count": null,
      "outputs": []
    },
    {
      "cell_type": "code",
      "source": [
        "HVC_telecom.head()"
      ],
      "metadata": {
        "id": "-1izSiOZ5m0Q"
      },
      "execution_count": null,
      "outputs": []
    },
    {
      "cell_type": "code",
      "source": [
        "HVC_telecom.circle_id.value_counts()"
      ],
      "metadata": {
        "id": "ziKIIEtd5owd"
      },
      "execution_count": null,
      "outputs": []
    },
    {
      "cell_type": "code",
      "source": [
        "HVC_telecom.drop(['circle_id'], axis=1, inplace=True)"
      ],
      "metadata": {
        "id": "C9fbYND65qq_"
      },
      "execution_count": null,
      "outputs": []
    },
    {
      "cell_type": "code",
      "source": [
        "# Changing type of date related attributes\n",
        "date_cols = [cols for cols in HVC_telecom.columns if \"date\" in cols]\n",
        "date_cols"
      ],
      "metadata": {
        "id": "V5d47OLz5sd_"
      },
      "execution_count": null,
      "outputs": []
    },
    {
      "cell_type": "code",
      "source": [
        "HVC_telecom[date_cols].head()"
      ],
      "metadata": {
        "id": "9KIX0_0O5uSY"
      },
      "execution_count": null,
      "outputs": []
    },
    {
      "cell_type": "code",
      "source": [
        "HVC_telecom[date_cols] = HVC_telecom[date_cols].apply(pd.to_datetime)"
      ],
      "metadata": {
        "id": "3RP10Vu05wxJ"
      },
      "execution_count": null,
      "outputs": []
    },
    {
      "cell_type": "code",
      "source": [
        "HVC_telecom[date_cols].head()"
      ],
      "metadata": {
        "id": "ZNHWu5KY5zJH"
      },
      "execution_count": null,
      "outputs": []
    },
    {
      "cell_type": "code",
      "source": [
        "def find_last_rech(df, str_month_num):\n",
        "    diff1 = df['last_date_of_month_'+str_month_num] - df['date_of_last_rech_'+str_month_num]\n",
        "    diff2 = df['last_date_of_month_'+str_month_num] - df['date_of_last_rech_data_'+str_month_num]\n",
        "    if(diff1.dt.days <= diff2.dt.days).any():\n",
        "        return diff1.dt.days\n",
        "    else:\n",
        "        return diff2.dt.days\n",
        "    "
      ],
      "metadata": {
        "id": "vQRl6dDw51Wp"
      },
      "execution_count": null,
      "outputs": []
    },
    {
      "cell_type": "code",
      "source": [
        "# Applying the function for all months\n",
        "HVC_telecom['last_rech_day_6'] = find_last_rech(HVC_telecom, \"6\")\n",
        "HVC_telecom['last_rech_day_7'] = find_last_rech(HVC_telecom, \"7\")\n",
        "HVC_telecom['last_rech_day_8'] = find_last_rech(HVC_telecom, \"8\")\n"
      ],
      "metadata": {
        "id": "XwpYeLHb53x7"
      },
      "execution_count": null,
      "outputs": []
    },
    {
      "cell_type": "code",
      "source": [
        "# Dropping date columns\n",
        "HVC_telecom.drop(columns=date_cols, axis=1, inplace=True)"
      ],
      "metadata": {
        "id": "I9cvptix56Ed"
      },
      "execution_count": null,
      "outputs": []
    },
    {
      "cell_type": "code",
      "source": [
        "HVC_telecom.head()"
      ],
      "metadata": {
        "id": "SUYGj1pk58md"
      },
      "execution_count": null,
      "outputs": []
    },
    {
      "cell_type": "code",
      "source": [
        "HVC_telecom.info(verbose=True, memory_usage=True, null_counts=True)"
      ],
      "metadata": {
        "id": "ypw-dPCl5-17"
      },
      "execution_count": null,
      "outputs": []
    },
    {
      "cell_type": "code",
      "source": [
        "cols_int = [i for i in HVC_telecom.columns if (\"count\" in i) or (\"fb\" in i)]\n",
        "\n",
        "# total 6 columns are there for recharge count\n",
        "cols_int.extend(['total_rech_num_6','total_rech_num_7', 'total_rech_num_8', \n",
        "                'total_rech_data_6','total_rech_data_7', 'total_rech_data_8'])\n",
        "\n",
        "cols_int"
      ],
      "metadata": {
        "id": "5lazmuFJ6Ask"
      },
      "execution_count": null,
      "outputs": []
    },
    {
      "cell_type": "code",
      "source": [
        "HVC_telecom[cols_int] = HVC_telecom[cols_int].astype('int64')\n",
        "\n",
        "HVC_telecom.info(verbose=True, memory_usage=True, null_counts=True)\n"
      ],
      "metadata": {
        "id": "B_GvjrXk6EkO"
      },
      "execution_count": null,
      "outputs": []
    },
    {
      "cell_type": "code",
      "source": [
        "HVC_telecom.head(10)"
      ],
      "metadata": {
        "id": "EW9LAKou6HGJ"
      },
      "execution_count": null,
      "outputs": []
    },
    {
      "cell_type": "code",
      "source": [
        "# Validating Class imbalance in dataset\n",
        "100*(HVC_telecom.Churn.value_counts(normalize=True))"
      ],
      "metadata": {
        "id": "D59AM8Q96Jm4"
      },
      "execution_count": null,
      "outputs": []
    },
    {
      "cell_type": "code",
      "source": [
        "# Validating Minute of Usage related columns distribution\n",
        "mou_cols = [i for i in HVC_telecom.columns if \"mou\" in i]\n",
        "print(\"Total MOU attributes\", len(mou_cols))\n",
        "\n",
        "HVC_telecom[mou_cols].describe()"
      ],
      "metadata": {
        "id": "KWbvqWq36Nfd"
      },
      "execution_count": null,
      "outputs": []
    },
    {
      "cell_type": "code",
      "source": [
        "# Looking into maximum recharge data and average recharge data attributes\n",
        "HVC_telecom[['max_rech_data_6', 'max_rech_data_7', 'max_rech_data_8', \n",
        "             'av_rech_amt_data_6', 'av_rech_amt_data_7', 'av_rech_amt_data_8']].describe(percentiles=[.25,.5,.75,.90,.95,.99])\n"
      ],
      "metadata": {
        "id": "orYPUG0t6Qqb"
      },
      "execution_count": null,
      "outputs": []
    },
    {
      "cell_type": "code",
      "source": [
        "sns.boxplot(data=HVC_telecom, y='max_rech_data_8')"
      ],
      "metadata": {
        "id": "G-iDZp8s6S29"
      },
      "execution_count": null,
      "outputs": []
    },
    {
      "cell_type": "code",
      "source": [
        "sns.boxplot(data=HVC_telecom, y='max_rech_data_6')"
      ],
      "metadata": {
        "id": "0pxjViS46Uzc"
      },
      "execution_count": null,
      "outputs": []
    },
    {
      "cell_type": "code",
      "source": [
        "sns.boxplot(data=HVC_telecom, y='max_rech_data_7')"
      ],
      "metadata": {
        "id": "9e_bumCx6Xbq"
      },
      "execution_count": null,
      "outputs": []
    },
    {
      "cell_type": "code",
      "source": [
        "cols=['total_rech_data_6', 'total_rech_data_7', 'total_rech_data_8', 'max_rech_data_6', 'max_rech_data_7', 'max_rech_data_8', \n",
        "             'av_rech_amt_data_6', 'av_rech_amt_data_7', 'av_rech_amt_data_8']\n",
        "\n",
        "HVC_telecom[(HVC_telecom['max_rech_data_6'] > 1200) & (HVC_telecom['max_rech_data_7'] > 1200)\n",
        "           & (HVC_telecom['max_rech_data_8'] > 1200)][cols]\n",
        "\n",
        "\n",
        "# Clearly above values are outliers for these columns so we can remove these rows"
      ],
      "metadata": {
        "id": "JB_Uhl8e6Zmm"
      },
      "execution_count": null,
      "outputs": []
    },
    {
      "cell_type": "code",
      "source": [
        "HVC_telecom = HVC_telecom[(HVC_telecom['max_rech_data_6'] < 1200) & (HVC_telecom['max_rech_data_7'] < 1200)\n",
        "           & (HVC_telecom['max_rech_data_8'] < 1200)]"
      ],
      "metadata": {
        "id": "yuQSiVI86dZe"
      },
      "execution_count": null,
      "outputs": []
    },
    {
      "cell_type": "code",
      "source": [
        "sns.boxplot(data=HVC_telecom, y='max_rech_data_8')"
      ],
      "metadata": {
        "id": "j4n8751P6sZq"
      },
      "execution_count": null,
      "outputs": []
    },
    {
      "cell_type": "code",
      "source": [
        "cols=['total_rech_data_6', 'max_rech_data_6', 'av_rech_amt_data_6']\n",
        "\n",
        "HVC_telecom[(HVC_telecom['total_rech_data_6'] > 1) &\n",
        "            (HVC_telecom['total_rech_data_6'] * HVC_telecom['max_rech_data_6'] == HVC_telecom['av_rech_amt_data_6'])][cols]\n"
      ],
      "metadata": {
        "id": "_ue2oFbzlmRM"
      },
      "execution_count": null,
      "outputs": []
    },
    {
      "cell_type": "code",
      "source": [
        "cols=['total_rech_data_7', 'max_rech_data_7', 'av_rech_amt_data_7']\n",
        "\n",
        "HVC_telecom[(HVC_telecom['total_rech_data_7'] > 1) & \n",
        "            (HVC_telecom['total_rech_data_7'] * HVC_telecom['max_rech_data_7'] == HVC_telecom['av_rech_amt_data_7'])][cols]"
      ],
      "metadata": {
        "id": "fvuB5JNg6x7H"
      },
      "execution_count": null,
      "outputs": []
    },
    {
      "cell_type": "code",
      "source": [
        "cols=['total_rech_data_8', 'max_rech_data_8', 'av_rech_amt_data_8']\n",
        "\n",
        "HVC_telecom[(HVC_telecom['total_rech_data_8'] > 1) & \n",
        "            (HVC_telecom['total_rech_data_8'] * HVC_telecom['max_rech_data_8'] == HVC_telecom['av_rech_amt_data_8'])][cols]\n",
        "\n",
        "\n",
        "# The above average attributes are somehow wrongly displayed like just the multiplication of number of recharge and maximum recharge.\n",
        "# We need to fix these average values for all three months considering the number of recharge and maximum recharge values are correct."
      ],
      "metadata": {
        "id": "6OYyXkAY61eG"
      },
      "execution_count": null,
      "outputs": []
    },
    {
      "cell_type": "code",
      "source": [
        "# Lets check together which users average miscalculated and what the Churn count\n",
        "cols = ['total_rech_data_6', 'total_rech_data_7', 'total_rech_data_8', 'max_rech_data_6', 'max_rech_data_7', 'max_rech_data_8', \n",
        "             'av_rech_amt_data_6', 'av_rech_amt_data_7', 'av_rech_amt_data_8']\n",
        "\n",
        "wrong_cal = HVC_telecom[(HVC_telecom['total_rech_data_6'] > 1) & \n",
        "            (HVC_telecom['total_rech_data_6'] * HVC_telecom['max_rech_data_6'] == HVC_telecom['av_rech_amt_data_6']) & \n",
        "            (HVC_telecom['total_rech_data_7'] > 1) & \n",
        "            (HVC_telecom['total_rech_data_7'] * HVC_telecom['max_rech_data_7'] == HVC_telecom['av_rech_amt_data_7']) & \n",
        "            (HVC_telecom['total_rech_data_8'] > 1) & \n",
        "            (HVC_telecom['total_rech_data_8'] * HVC_telecom['max_rech_data_8'] == HVC_telecom['av_rech_amt_data_8'])]\n",
        "\n",
        "print(wrong_cal.shape)\n",
        "print(wrong_cal.Churn.sum())\n",
        "\n",
        "\n",
        "# Here couple of rows are there which all month average are miscalculated and Churn rate for these rows are only 5. So we can drop these rows\n"
      ],
      "metadata": {
        "id": "QzaDVRdK69PN"
      },
      "execution_count": null,
      "outputs": []
    },
    {
      "cell_type": "code",
      "source": [
        "# Dropping above rows\n",
        "HVC_telecom.drop(wrong_cal.index, inplace=True)"
      ],
      "metadata": {
        "id": "0_QgkGb07Bp2"
      },
      "execution_count": null,
      "outputs": []
    },
    {
      "cell_type": "code",
      "source": [
        "HVC_telecom.Churn.sum()"
      ],
      "metadata": {
        "id": "9Y6Tc0N37E3q"
      },
      "execution_count": null,
      "outputs": []
    },
    {
      "cell_type": "code",
      "source": [
        "# Validating miscalculated average valued datapoints Churn count of month 6 \n",
        "cols=['total_rech_data_6', 'max_rech_data_6', 'av_rech_amt_data_6', 'Churn']\n",
        "\n",
        "HVC_telecom[(HVC_telecom['total_rech_data_6'] > 1) & \n",
        "            (HVC_telecom['total_rech_data_6'] * HVC_telecom['max_rech_data_6'] == HVC_telecom['av_rech_amt_data_6'])].Churn.sum()\n",
        "\n"
      ],
      "metadata": {
        "id": "yAIwqcgU7J77"
      },
      "execution_count": null,
      "outputs": []
    },
    {
      "cell_type": "code",
      "source": [
        "# Validating miscalculated average valued datapoints Churn count of month 7\n",
        "cols=['total_rech_data_7', 'max_rech_data_7', 'av_rech_amt_data_7', 'Churn']\n",
        "\n",
        "HVC_telecom[(HVC_telecom['total_rech_data_7'] > 1) & \n",
        "            (HVC_telecom['total_rech_data_7'] * HVC_telecom['max_rech_data_7'] == HVC_telecom['av_rech_amt_data_7'])].Churn.sum()\n"
      ],
      "metadata": {
        "id": "UDVmaAfr7M2g"
      },
      "execution_count": null,
      "outputs": []
    },
    {
      "cell_type": "code",
      "source": [
        "# Validating miscalculated average valued datapoints Churn count of month 8\n",
        "cols=['total_rech_data_8', 'max_rech_data_8', 'av_rech_amt_data_8', 'Churn']\n",
        "\n",
        "HVC_telecom[(HVC_telecom['total_rech_data_8'] > 1) & \n",
        "            (HVC_telecom['total_rech_data_8'] * HVC_telecom['max_rech_data_8'] == HVC_telecom['av_rech_amt_data_8'])].Churn.sum()\n",
        "\n",
        "\n",
        "# As the above rows Churn information has almost 10% data we should not drop rows for these. We approximate the average value by dividing the max data by recharge count\n"
      ],
      "metadata": {
        "id": "Oe2sGTUj7Pod"
      },
      "execution_count": null,
      "outputs": []
    },
    {
      "cell_type": "code",
      "source": [
        "# Creating user defined function for calculating average recharge data for above rows\n",
        "def cal_av_rech_data(df, col):\n",
        "    if((df['total_rech_data_'+col] > 1) & \n",
        "            (df['total_rech_data_'+col] * df['max_rech_data_'+col] == df['av_rech_amt_data_'+col])).all():\n",
        "        return df['max_rech_data_'+col]/df['total_rech_data_'+col]\n",
        "    else:\n",
        "        return df['av_rech_amt_data_'+col]\n",
        "\n",
        "# Applying the function for all months\n",
        "HVC_telecom['av_rech_amt_data_6'] = cal_av_rech_data(HVC_telecom, \"6\")\n",
        "HVC_telecom['av_rech_amt_data_7'] = cal_av_rech_data(HVC_telecom, \"7\")\n",
        "HVC_telecom['av_rech_amt_data_8'] = cal_av_rech_data(HVC_telecom, \"8\")\n"
      ],
      "metadata": {
        "id": "AK8lJE9K7SXR"
      },
      "execution_count": null,
      "outputs": []
    },
    {
      "cell_type": "code",
      "source": [
        "HVC_telecom[['av_rech_amt_data_6', 'av_rech_amt_data_7', 'av_rech_amt_data_8']]"
      ],
      "metadata": {
        "id": "cfDFlbwB7WVV"
      },
      "execution_count": null,
      "outputs": []
    },
    {
      "cell_type": "code",
      "source": [
        "# Dropping the total rech data attributes\n",
        "HVC_telecom.drop(columns=['total_rech_data_6', 'total_rech_data_7', 'total_rech_data_8'], axis=1, inplace=True)\n",
        "\n",
        "HVC_telecom.head()"
      ],
      "metadata": {
        "id": "mv4ucbca7ZGC"
      },
      "execution_count": null,
      "outputs": []
    },
    {
      "cell_type": "code",
      "source": [
        "cols_6_7 = [col for col in HVC_telecom.columns if (\"_6\" in col) or (\"_7\" in col)]\n",
        "\n",
        "for i,v in enumerate(cols_6_7):\n",
        "    if(\"_6\" in v):\n",
        "        col = \"av_\"+v.split(\"6\")[0]+\"good\"\n",
        "        HVC_telecom[col] = (HVC_telecom[v] + HVC_telecom[cols_6_7[i+1]])/2\n",
        "\n",
        "# Dropping the previous 6 and 7 attributes\n",
        "HVC_telecom.drop(columns=cols_6_7, axis=1, inplace=True)\n",
        "\n",
        "HVC_telecom.head()"
      ],
      "metadata": {
        "id": "TFh78Wxp7b1Z"
      },
      "execution_count": null,
      "outputs": []
    },
    {
      "cell_type": "code",
      "source": [
        "#  Rechecking the percentage of missing values\n",
        "missing_percent = pd.DataFrame(round(100*(HVC_telecom.isnull().sum()/len(HVC_telecom.index)), 2), columns=['Percentage'])\n",
        "missing_percent.reset_index(inplace=True)\n",
        "missing_percent.rename(columns={'index':'features'}, inplace=True)\n",
        "\n",
        "print(\"missing percentage < 10% \", missing_percent[(missing_percent['Percentage'] > 0.00) & (missing_percent['Percentage'] < 10.00)].count())\n",
        "print(\"missing percentage 10-60% \", missing_percent[(missing_percent['Percentage'] >= 10.00) & (missing_percent['Percentage'] < 60.00)].count())\n",
        "print(\"missing percentage >= 60% \", missing_percent[(missing_percent['Percentage'] >= 60.00)].count())\n"
      ],
      "metadata": {
        "id": "YaeEn-9c7e2D"
      },
      "execution_count": null,
      "outputs": []
    },
    {
      "cell_type": "code",
      "source": [
        "# Storing the above data set to csv\n",
        "HVC_telecom.to_csv(\"HVC_Telecom_cleaned.csv\")\n"
      ],
      "metadata": {
        "id": "x968scPq7l4q"
      },
      "execution_count": null,
      "outputs": []
    },
    {
      "cell_type": "code",
      "source": [
        "HVC_telecom = pd.read_csv(\"HVC_Telecom_cleaned.csv\")\n",
        "HVC_telecom.drop(\"Unnamed: 0\", axis=1, inplace=True)\n",
        "\n",
        "HVC_telecom.head()"
      ],
      "metadata": {
        "id": "wuVKUcCR7wvK"
      },
      "execution_count": null,
      "outputs": []
    },
    {
      "cell_type": "code",
      "source": [
        "# divide the data set in to X & y\n",
        "X = HVC_telecom.drop('Churn', axis = 1)\n",
        "y = HVC_telecom['Churn']\n",
        "\n",
        "# Now will split the data into train test split\n",
        "X_train, X_test, y_train, y_test = train_test_split(X, y, train_size = 0.7, random_state=100)\n"
      ],
      "metadata": {
        "id": "-Yhb0uBw70Fc"
      },
      "execution_count": null,
      "outputs": []
    },
    {
      "cell_type": "code",
      "source": [
        "# Apply scaling on the train and test data\n",
        "scaler = StandardScaler()\n",
        "X_train = scaler.fit_transform(X_train)\n",
        "X_test = scaler.transform(X_test)"
      ],
      "metadata": {
        "id": "Qw6zIfQy73DX"
      },
      "execution_count": null,
      "outputs": []
    },
    {
      "cell_type": "code",
      "source": [
        "# We will apply PCA on train data set\n",
        "X_train.shape"
      ],
      "metadata": {
        "id": "UYwXrpYj735S",
        "colab": {
          "base_uri": "https://localhost:8080/"
        },
        "outputId": "34b50db7-3afb-448d-dc9a-eaf4a8485853"
      },
      "execution_count": null,
      "outputs": [
        {
          "output_type": "execute_result",
          "data": {
            "text/plain": [
              "(20717, 103)"
            ]
          },
          "metadata": {},
          "execution_count": 310
        }
      ]
    },
    {
      "cell_type": "code",
      "source": [
        "# Considering PCA to reduce the features then we will apply model on that.\n",
        "#Initializing the PCA module\n",
        "pca = PCA( random_state=50)\n",
        "\n",
        "# #Doing the PCA on the train data\n",
        "pca.fit(X_train)"
      ],
      "metadata": {
        "id": "pzWuj3hk79VW",
        "colab": {
          "base_uri": "https://localhost:8080/"
        },
        "outputId": "48e13ea5-fdd9-4ccf-be1f-85020223995c"
      },
      "execution_count": null,
      "outputs": [
        {
          "output_type": "execute_result",
          "data": {
            "text/plain": [
              "PCA(random_state=50)"
            ]
          },
          "metadata": {},
          "execution_count": 311
        }
      ]
    },
    {
      "cell_type": "code",
      "source": [
        "#Making the screeplot - plotting the cumulative variance against the number of components\n",
        "get_ipython().run_line_magic('matplotlib', 'inline')\n",
        "plt.plot(np.cumsum(pca.explained_variance_ratio_))\n",
        "plt.grid(\"grey\")\n",
        "plt.xlabel('number of components')\n",
        "plt.ylabel('cumulative explained variance')\n",
        "plt.show()"
      ],
      "metadata": {
        "id": "zgNvdlAB8CWQ"
      },
      "execution_count": null,
      "outputs": []
    },
    {
      "cell_type": "code",
      "source": [
        "#Using incremental PCA for efficiency - saves a lot of time on larger datasets\n",
        "pca_final = IncrementalPCA(n_components=50)\n",
        "\n",
        "# Transforming the X_train final 50 components PCA\n",
        "df_train_pca = pca_final.fit_transform(X_train)\n",
        "df_train_pca.shape"
      ],
      "metadata": {
        "id": "ZzEH5Nb68GMK"
      },
      "execution_count": null,
      "outputs": []
    },
    {
      "cell_type": "code",
      "source": [
        "# Validating minimum and maximum correlations between components\n",
        "corrmat = np.corrcoef(df_train_pca.transpose())\n",
        "corrmat_nodiag = corrmat - np.diagflat(corrmat.diagonal())\n",
        "print(\"max corr:\",corrmat_nodiag.max(), \", min corr: \", corrmat_nodiag.min(),)\n",
        "# we see that correlations are indeed very close to 0\n"
      ],
      "metadata": {
        "id": "iclHvaMU8KLU"
      },
      "execution_count": null,
      "outputs": []
    },
    {
      "cell_type": "code",
      "source": [
        "#Applying selected components to the test data - 50 components\n",
        "df_test_pca = pca_final.transform(X_test)\n",
        "df_test_pca.shape"
      ],
      "metadata": {
        "id": "TChj8F3u8O2h"
      },
      "execution_count": null,
      "outputs": []
    },
    {
      "cell_type": "code",
      "source": [
        "get_ipython().run_line_magic('matplotlib', 'inline')\n",
        "fig = plt.figure(figsize = (8,8))\n",
        "plt.scatter(df_train_pca[:,0], df_train_pca[:,1], c = y_train.map({0:'green',1:'red'}))\n",
        "plt.xlabel('Principal Component 1')\n",
        "plt.ylabel('Principal Component 2')\n",
        "plt.tight_layout()\n",
        "plt.show()"
      ],
      "metadata": {
        "id": "hg-00HhS8R0S"
      },
      "execution_count": null,
      "outputs": []
    },
    {
      "cell_type": "markdown",
      "source": [
        "***Building the model***"
      ],
      "metadata": {
        "id": "tQJ2M5Nh8WPE"
      }
    },
    {
      "cell_type": "code",
      "source": [
        "# - We are considered class_weight parameter as `balanced` in each model due class imbalance.\n",
        "# - `Sensitivity` or `Recall` score is considered primarily for evaluating models as we are more focused to capture Churned customers than non-churn.\n",
        "\n",
        "# Applying PCA components on simple **Logistic Regression model**"
      ],
      "metadata": {
        "id": "3tFm722D8VCP"
      },
      "execution_count": null,
      "outputs": []
    },
    {
      "cell_type": "code",
      "source": [
        "# First will start with Logistic regression\n",
        "logReg = LogisticRegression(class_weight='balanced')\n",
        "model = logReg.fit(df_train_pca, y_train)\n",
        "\n",
        "# predicting the Churn/Non-Churn using the model\n",
        "y_pred = model.predict(df_test_pca)\n",
        "\n",
        "print(\"Accuracy Score {0}:\".format(metrics.accuracy_score(y_test, y_pred)))\n",
        "print(\"Sensitivity/Recall {0}:\".format(metrics.recall_score(y_test, y_pred)))\n",
        "metrics.confusion_matrix(y_test, y_pred)\n"
      ],
      "metadata": {
        "id": "ZUuSSiy58nUe"
      },
      "execution_count": null,
      "outputs": []
    },
    {
      "cell_type": "code",
      "source": [
        "# We will proceed with tuning the hyperparamters and advanced regression using GridSearch\n",
        "logR = LogisticRegression(class_weight='balanced')\n",
        "params = {'penalty': ['l1', 'l2'],\n",
        "             'C':[0.0001, 0.001, 0.01, 0.1, 0.2, 0.5, 1]}\n",
        "\n",
        "# Applying the GridSearch using scoring as recall\n",
        "grid = GridSearchCV(estimator= logR, param_grid=params, cv=5, verbose=1, scoring='recall',return_train_score=True)\n",
        "grid.fit(df_train_pca, y_train)\n",
        "\n",
        "print(\"Best train Score: \",grid.best_score_)\n",
        "print(\"Best Parameter: \",grid.best_params_)\n",
        "\n",
        "# Applying GridSearch Parameters on LogisticRegression\n",
        "logReg = LogisticRegression(penalty=grid.best_params_['penalty'], \n",
        "                            C=grid.best_params_['C'], class_weight='balanced')\n",
        "model = logReg.fit(df_train_pca, y_train)\n",
        "\n",
        "# predicting the Churn/Non-Churn using the model\n",
        "y_pred = model.predict(df_test_pca)\n",
        "\n",
        "# Validating the Accuracy, Recall and Confusion matrix\n",
        "print(\"Accuracy Score {0}:\".format(metrics.accuracy_score(y_test, y_pred)))\n",
        "print(\"Sensitivity/Recall {0}:\".format(metrics.recall_score(y_test, y_pred)))\n",
        "metrics.confusion_matrix(y_test, y_pred)\n",
        "\n",
        "\n",
        "# Considering **RandomForestClassifier**"
      ],
      "metadata": {
        "id": "vhZZLrbr8ovP"
      },
      "execution_count": null,
      "outputs": []
    },
    {
      "cell_type": "code",
      "source": [
        "# Applying the RandomForest on this dataset\n",
        "\n",
        "rfc = RandomForestClassifier(class_weight='balanced')\n",
        "model2 = rfc.fit(df_train_pca, y_train)\n",
        "\n",
        "# predicting the Churn/Non-Churn using the model\n",
        "y_pred = model2.predict(df_test_pca)\n",
        "\n",
        "# Validating the Accuracy, Recall and Confusion matrix\n",
        "print(\"Accuracy Score {0}:\".format(metrics.accuracy_score(y_test, y_pred)))\n",
        "print(\"Sensitivity/Recall {0}:\".format(metrics.recall_score(y_test, y_pred)))\n",
        "metrics.confusion_matrix(y_test, y_pred)\n",
        "\n",
        "\n",
        "# Considering **Advanced Regression with Elastic net**\n"
      ],
      "metadata": {
        "id": "rX1ahwC28tLe"
      },
      "execution_count": null,
      "outputs": []
    },
    {
      "cell_type": "markdown",
      "source": [
        "***Selecting best model for prediction***"
      ],
      "metadata": {
        "id": "XtfagiA580aA"
      }
    },
    {
      "cell_type": "code",
      "source": [
        "# Now from above models Accuracy and sensitivity metrics we choose Ridge (L2) regression model is suitable for the prediction. \n",
        "# The L2 regression model is applied on the PCA components.\n",
        "\n",
        "# As per the business requirement we have chosen Sensitivity over Accuracy. \n",
        "# it is important to predict Churn users as they will take action to retain those customers. \n",
        "# In that case if some of the non-churn user gets those perks/offers mistakenly it will not be much affect business.\n",
        "\n",
        "# The simple Logistic regression model with class weight balanced parameter overall performance also good but sensitivity is more on Ridge Regression model.\n"
      ],
      "metadata": {
        "id": "LOe9o2CV84jD"
      },
      "execution_count": null,
      "outputs": []
    },
    {
      "cell_type": "code",
      "source": [
        "# The final model for Churn/Non-Churn prediction\n",
        "logReg = LogisticRegression(penalty='l2', \n",
        "                            C=0.0001, class_weight='balanced')\n",
        "classifier = logReg.fit(df_train_pca, y_train)\n",
        "\n",
        "# predicting the Churn/Non-Churn using the model\n",
        "y_pred = classifier.predict(df_test_pca)\n",
        "\n",
        "# Validating the Accuracy, Recall and Confusion matrix\n",
        "print(\"Accuracy Score {0}:\".format(metrics.accuracy_score(y_test, y_pred)))\n",
        "print(\"Sensitivity/Recall {0}:\".format(metrics.recall_score(y_test, y_pred)))\n",
        "metrics.confusion_matrix(y_test, y_pred)"
      ],
      "metadata": {
        "id": "vvSnsti99Ao1"
      },
      "execution_count": null,
      "outputs": []
    }
  ]
}