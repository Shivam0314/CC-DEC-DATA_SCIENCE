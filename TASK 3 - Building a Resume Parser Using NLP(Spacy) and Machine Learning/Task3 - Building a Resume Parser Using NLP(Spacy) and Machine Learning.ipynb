{
  "cells": [
    {
      "cell_type": "markdown",
      "metadata": {
        "id": "Ka0uocbBIIfX"
      },
      "source": [
        "# ***Building a Resume Parser Using NLP(Spacy) and Machine Learning***"
      ]
    },
    {
      "cell_type": "code",
      "execution_count": null,
      "metadata": {
        "id": "uZoq4KlfIPoU"
      },
      "outputs": [],
      "source": [
        "! pip install spacy_transformers\n",
        "! pip install -U spacy\n",
        "! pip install PyMuPDF"
      ]
    },
    {
      "cell_type": "code",
      "execution_count": null,
      "metadata": {
        "id": "SjAffmRdpYxd"
      },
      "outputs": [],
      "source": [
        "import spacy\n",
        "from spacy.tokens import DocBin\n",
        "from tqdm import tqdm\n",
        "import json"
      ]
    },
    {
      "cell_type": "code",
      "execution_count": null,
      "metadata": {
        "id": "Sz7MrcBJp9np"
      },
      "outputs": [],
      "source": [
        "! git clone https://github.com/Shivam1431/Building_a_Resume_Parser_Using_NLP-Spacy_and_Machine-Learning.git"
      ]
    },
    {
      "cell_type": "code",
      "execution_count": null,
      "metadata": {
        "id": "z8Oyw3nUqa7V"
      },
      "outputs": [],
      "source": [
        "cvData = json.load(open(\"/content/Building_a_Resume_Parser_Using_NLP-Spacy_and_Machine-Learning/data/training/train_data.json\" , 'r'))"
      ]
    },
    {
      "cell_type": "code",
      "execution_count": null,
      "metadata": {
        "id": "TBTUp5qYq5JS"
      },
      "outputs": [],
      "source": [
        "len(cvData)"
      ]
    },
    {
      "cell_type": "code",
      "execution_count": null,
      "metadata": {
        "id": "FjGsHKO7rdQy"
      },
      "outputs": [],
      "source": [
        "!python -m spacy init fill-config /content/Building_a_Resume_Parser_Using_NLP-Spacy_and_Machine-Learning/data/training/base_config.cfg /content/Building_a_Resume_Parser_Using_NLP-Spacy_and_Machine-Learning/data/training/config.cfg"
      ]
    },
    {
      "cell_type": "code",
      "source": [
        "cvData = cvData[0:2]"
      ],
      "metadata": {
        "id": "CMpf8B1qEJpN"
      },
      "execution_count": null,
      "outputs": []
    },
    {
      "cell_type": "code",
      "execution_count": null,
      "metadata": {
        "id": "KCjxIzb5sws_"
      },
      "outputs": [],
      "source": [
        "def get_spacy_doc(file, data):\n",
        "  nlp = spacy.blank('en')\n",
        "  db = DocBin()\n",
        "\n",
        "  for text , annot in tqdm(data):\n",
        "    doc = nlp.make_doc(text)\n",
        "    annot = annot[\"entities\"]\n",
        "\n",
        "    ents = []\n",
        "    entity_indices = []\n",
        "\n",
        "    for start , end , label in annot:\n",
        "      skip_entity = False\n",
        "      for idx in range(start,  end):\n",
        "        if idx in entity_indices:\n",
        "          skip_entity = True\n",
        "          break\n",
        "      if skip_entity == True:\n",
        "        continue\n",
        "        \n",
        "        \n",
        "      entity_indices = entity_indices + list(range(start , end))\n",
        "\n",
        "      try :\n",
        "        span = doc.char_span(start , end , label = label , alignment_mode = 'strict')\n",
        "\n",
        "      except :\n",
        "        continue\n",
        "\n",
        "      if span is None:\n",
        "        err_data = str([start , end]) + \" \" + str(text) + '\\n'\n",
        "        file.write(err_data)\n",
        "\n",
        "      else :\n",
        "        ents.append(span)\n",
        "\n",
        "    try :\n",
        "      doc.ents = ents\n",
        "      db.add(doc)\n",
        "    except :\n",
        "      pass\n",
        "\n",
        "  return db\n"
      ]
    },
    {
      "cell_type": "code",
      "execution_count": null,
      "metadata": {
        "id": "TMPSZOwF0_9m"
      },
      "outputs": [],
      "source": [
        "from sklearn.model_selection import train_test_split\n",
        "train , test = train_test_split(cvData , test_size = 0.3)"
      ]
    },
    {
      "cell_type": "code",
      "execution_count": null,
      "metadata": {
        "id": "-beuVZPueMXk"
      },
      "outputs": [],
      "source": [
        "len(train) , len(test)"
      ]
    },
    {
      "cell_type": "code",
      "execution_count": null,
      "metadata": {
        "id": "qrdHbd2IehKV"
      },
      "outputs": [],
      "source": [
        "file = open('error.txt', 'w')\n",
        "\n",
        "db = get_spacy_doc(file, train)\n",
        "db.to_disk('train_data.spacy')\n",
        "\n",
        "db = get_spacy_doc(file, test)\n",
        "db.to_disk('test_data.spacy')\n",
        "\n",
        "file.close()"
      ]
    },
    {
      "cell_type": "code",
      "execution_count": null,
      "metadata": {
        "id": "M6hUnyAMjEc-"
      },
      "outputs": [],
      "source": [
        "len(db.tokens)"
      ]
    },
    {
      "cell_type": "code",
      "execution_count": null,
      "metadata": {
        "id": "it_PNbd_oZxS"
      },
      "outputs": [],
      "source": [
        "!python -m spacy train /content/Building_a_Resume_Parser_Using_NLP-Spacy_and_Machine-Learning/data/training/config.cfg --output ./output --paths.train ./train_data.spacy --paths.dev ./test_data.spacy --gpu-id 0"
      ]
    },
    {
      "cell_type": "markdown",
      "metadata": {
        "id": "FrpT5tnmrE2Y"
      },
      "source": [
        "**MODEL TEST**"
      ]
    },
    {
      "cell_type": "code",
      "execution_count": null,
      "metadata": {
        "id": "U41laf0zsGBR"
      },
      "outputs": [],
      "source": [
        "nlp = spacy.load('/content/output/model-best')"
      ]
    },
    {
      "cell_type": "code",
      "execution_count": null,
      "metadata": {
        "colab": {
          "background_save": true
        },
        "id": "MPgFgbCroeos"
      },
      "outputs": [],
      "source": [
        "doc = nlp('My name is Shivam Mishra. I am Data Science intern at CodeClause. I have 4 years of experience in Teaching')\n",
        "for ent in doc.ents:\n",
        "  print(ent.text, \" ->>>>> \" , ent.label_)"
      ]
    },
    {
      "cell_type": "code",
      "execution_count": null,
      "metadata": {
        "colab": {
          "background_save": true
        },
        "id": "vJmCyFfxxHpu"
      },
      "outputs": [],
      "source": [
        "import sys, fitz"
      ]
    },
    {
      "cell_type": "code",
      "execution_count": null,
      "metadata": {
        "colab": {
          "background_save": true
        },
        "id": "j-pOs-7fxL4Z"
      },
      "outputs": [],
      "source": [
        "fname = '/content/Building_a_Resume_Parser_Using_NLP-Spacy_and_Machine-Learning/data/test/Alice Clark CV.pdf'\n",
        "doc = fitz.open(fname)"
      ]
    },
    {
      "cell_type": "code",
      "execution_count": null,
      "metadata": {
        "colab": {
          "background_save": true
        },
        "id": "yoabu0Oyxpy_"
      },
      "outputs": [],
      "source": [
        "doc_text = \" \"\n",
        "for page in doc:\n",
        "  doc_text = doc_text + str(page.get_text())"
      ]
    },
    {
      "cell_type": "code",
      "execution_count": null,
      "metadata": {
        "colab": {
          "background_save": true
        },
        "id": "1qrKJlreyeFW"
      },
      "outputs": [],
      "source": [
        "doc_text = ''.join(doc_text.strip())"
      ]
    },
    {
      "cell_type": "code",
      "execution_count": null,
      "metadata": {
        "colab": {
          "background_save": true
        },
        "id": "w0Szf-CDyx0k"
      },
      "outputs": [],
      "source": [
        "doc_text"
      ]
    },
    {
      "cell_type": "code",
      "execution_count": null,
      "metadata": {
        "colab": {
          "background_save": true
        },
        "id": "S4ljRsPDzA4l"
      },
      "outputs": [],
      "source": [
        "doc = nlp(doc_text)\n",
        "for ent in doc.ents:\n",
        "  print(ent.text, \" ->>>>> \" , ent.label_)"
      ]
    }
  ],
  "metadata": {
    "colab": {
      "provenance": []
    },
    "kernelspec": {
      "display_name": "Python 3",
      "name": "python3"
    },
    "language_info": {
      "name": "python"
    },
    "accelerator": "GPU",
    "gpuClass": "standard"
  },
  "nbformat": 4,
  "nbformat_minor": 0
}