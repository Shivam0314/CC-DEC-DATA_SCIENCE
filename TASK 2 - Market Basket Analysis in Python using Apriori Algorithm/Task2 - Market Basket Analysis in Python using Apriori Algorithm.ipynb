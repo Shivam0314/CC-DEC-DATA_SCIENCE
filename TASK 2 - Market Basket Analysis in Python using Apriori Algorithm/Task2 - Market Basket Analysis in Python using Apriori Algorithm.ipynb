{
  "nbformat": 4,
  "nbformat_minor": 0,
  "metadata": {
    "colab": {
      "provenance": [],
      "collapsed_sections": [
        "zI-7wjfheNQH"
      ]
    },
    "kernelspec": {
      "name": "python3",
      "display_name": "Python 3"
    },
    "language_info": {
      "name": "python"
    }
  },
  "cells": [
    {
      "cell_type": "markdown",
      "source": [
        "# ***Market Basket Analysis in Python using Apriori Algorithm***"
      ],
      "metadata": {
        "id": "LMI_NHtpeTZf"
      }
    },
    {
      "cell_type": "markdown",
      "source": [
        "***Implementing Market Basket Analysis***"
      ],
      "metadata": {
        "id": "fPRmcMIpJjUG"
      }
    },
    {
      "cell_type": "code",
      "execution_count": null,
      "metadata": {
        "id": "H_9tdQdhd7S2"
      },
      "outputs": [],
      "source": [
        "import numpy as np\n",
        "import pandas as pd\n",
        "from mlxtend.frequent_patterns import apriori , association_rules\n"
      ]
    },
    {
      "cell_type": "code",
      "source": [
        "myData = pd.read_csv('Online Retail.csv', encoding= 'unicode_escape')\n",
        "myData.head()"
      ],
      "metadata": {
        "id": "hgr0Er735GLL"
      },
      "execution_count": null,
      "outputs": []
    },
    {
      "cell_type": "code",
      "source": [
        "# DATA CLEANING\n",
        "\n",
        "myData['Description'] = myData['Description'].str.strip()\n",
        "myData.dropna(axis = 0 , subset = ['InvoiceNo'], inplace = True)\n",
        "myData['InvoiceNo'] = myData['InvoiceNo'].astype('str')\n",
        "myData = myData[~myData['InvoiceNo'].str.contains('C')]\n",
        "myData.head()"
      ],
      "metadata": {
        "id": "hP377OdF5NxB"
      },
      "execution_count": null,
      "outputs": []
    },
    {
      "cell_type": "code",
      "source": [
        "myData['Country'].value_counts()"
      ],
      "metadata": {
        "id": "WgvrsrE15NuE"
      },
      "execution_count": null,
      "outputs": []
    },
    {
      "cell_type": "code",
      "source": [
        "myData.shape"
      ],
      "metadata": {
        "id": "NxuV-Enc5NrQ"
      },
      "execution_count": null,
      "outputs": []
    },
    {
      "cell_type": "code",
      "source": [
        "# Seperating Transaction For Germany\n",
        "myBasket = (myData[myData['Country'] == 'Germany']\n",
        "            .groupby(['InvoiceNo' , 'Description'])['Quantity']\n",
        "            .sum().unstack().reset_index().fillna(0)\n",
        "            .set_index('InvoiceNo')\n",
        "            )"
      ],
      "metadata": {
        "id": "UyfDZJaV5NoF"
      },
      "execution_count": null,
      "outputs": []
    },
    {
      "cell_type": "code",
      "source": [
        "myBasket.head()"
      ],
      "metadata": {
        "id": "vphFd1Wm5Nkd"
      },
      "execution_count": null,
      "outputs": []
    },
    {
      "cell_type": "code",
      "source": [
        "# Converting all positive values of 1 and everything else to 0\n",
        "def my_encodeUnits(x):\n",
        "  if x <= 0:\n",
        "    return 0\n",
        "  elif x >= 1:\n",
        "    return 1\n",
        "\n",
        "myBasket_Set = myBasket.applymap(my_encodeUnits)\n",
        "myBasket_Set.drop('POSTAGE' , inplace = True , axis = 1)"
      ],
      "metadata": {
        "id": "XljyGSOO5Nb7"
      },
      "execution_count": null,
      "outputs": []
    },
    {
      "cell_type": "markdown",
      "source": [
        "***TRAINING MODEL***"
      ],
      "metadata": {
        "id": "Jyci79XNGkww"
      }
    },
    {
      "cell_type": "code",
      "source": [
        "# Generating Frequent Itemsets\n",
        "myFrequentItem_Set = apriori(myBasket_Set , min_support = 0.07 , use_colnames= True)"
      ],
      "metadata": {
        "id": "HRFpUhM7G5fB"
      },
      "execution_count": null,
      "outputs": []
    },
    {
      "cell_type": "code",
      "source": [
        "# Generating Rules\n",
        "my_Rules = association_rules(myFrequentItem_Set, metric = 'lift' , min_threshold = 1)"
      ],
      "metadata": {
        "id": "-JQmTY1T5NQw"
      },
      "execution_count": null,
      "outputs": []
    },
    {
      "cell_type": "code",
      "source": [
        "# Viewing top 100 Rules\n",
        "my_Rules.head(100)"
      ],
      "metadata": {
        "id": "JBoLa1Uj5NFh"
      },
      "execution_count": null,
      "outputs": []
    },
    {
      "cell_type": "markdown",
      "source": [
        "***MAKING RECOMMENDATION***"
      ],
      "metadata": {
        "id": "0RXqhZkRIQrY"
      }
    },
    {
      "cell_type": "code",
      "source": [
        "myBasket_Set['ROUND SNACK BOXES SET OF4 WOODLAND'].sum()"
      ],
      "metadata": {
        "id": "FRDGmYnY5M7F"
      },
      "execution_count": null,
      "outputs": []
    },
    {
      "cell_type": "code",
      "source": [
        "myBasket_Set['SPACEBOY LUNCH BOX'].sum()"
      ],
      "metadata": {
        "id": "OTNYOmi_5MuN"
      },
      "execution_count": null,
      "outputs": []
    },
    {
      "cell_type": "code",
      "source": [
        "# Filtering  Rules Based on Condition\n",
        "my_Rules[(my_Rules['lift'] >= 3) &\n",
        "         (my_Rules['confidence'] >= 0.3)]"
      ],
      "metadata": {
        "id": "EGfCGs78eYW9"
      },
      "execution_count": null,
      "outputs": []
    }
  ]
}